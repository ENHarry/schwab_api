{
 "cells": [
  {
   "cell_type": "code",
   "execution_count": null,
   "id": "2347557b-8713-43a9-9366-acfa97caaa1a",
   "metadata": {},
   "outputs": [],
   "source": [
    "import asyncio\n",
    "from schwab_api.auth import SchwabAuth\n",
    "from schwab_api.market_data import MarketData"
   ]
  },
  {
   "cell_type": "code",
   "execution_count": null,
   "id": "0ad80f28-69e7-43e7-83fd-605c3633ff69",
   "metadata": {},
   "outputs": [],
   "source": [
    "# Initialize authentication\n",
    "auth = SchwabAuth(client_id='your_client_id', client_secret='your_client_secret')\n",
    "\n",
    "# Initialize market data\n",
    "market_data = MarketData(auth)\n",
    "\n",
    "# List of symbols to stream\n",
    "symbols = ['AAPL', 'GOOGL', 'MSFT']\n",
    "\n",
    "# Run the stream\n",
    "async def main():\n",
    "    async for data in market_data.stream_real_time_data(symbols):\n",
    "        print(data)\n",
    "\n",
    "asyncio.run(main())"
   ]
  }
 ],
 "metadata": {
  "kernelspec": {
   "display_name": "Python 3 (ipykernel)",
   "language": "python",
   "name": "python3"
  },
  "language_info": {
   "codemirror_mode": {
    "name": "ipython",
    "version": 3
   },
   "file_extension": ".py",
   "mimetype": "text/x-python",
   "name": "python",
   "nbconvert_exporter": "python",
   "pygments_lexer": "ipython3",
   "version": "3.8.0"
  }
 },
 "nbformat": 4,
 "nbformat_minor": 5
}
